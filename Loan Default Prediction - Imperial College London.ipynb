{
 "cells": [
  {
   "cell_type": "markdown",
   "metadata": {},
   "source": [
    "# Analysing the 'Loan Default Prediction - Imperial College London' data set from Kaggle"
   ]
  },
  {
   "cell_type": "markdown",
   "metadata": {},
   "source": [
    "This notebook is used to analyzea set of financial transactions associated with individuals. The data set is available on [Kaggle](https://www.kaggle.com/c/loan-default-prediction/data) and was provided by the Imperial College London.\n",
    "\n",
    "**In the original kaggle competition, participants had to predict loan default and the respective loss. In this notebook, we are only interested in predicting if a loan default will occur. This is why we do not use the test set from kaggle and work exclusively with the train set. Thus, the test set is created from this train set.**.\n",
    "\n",
    "The data has been standardized, de-trended, and anonymized. It has over two hundred thousand observations and nearly 800 features. Each observation is independent from the previous. \n",
    "\n",
    "For each observation, it was recorded whether a default was triggered. In case of a default, the loss was measured. This quantity lies between 0 and 100. It has been normalised, considering that the notional of each transaction at inception is 100. For example, a loss of 60 means that only 40 is reimbursed. If the loan did not default, the loss was 0. Some variables may be categorical (e.g. f776 and f777).\n",
    "\n",
    "The notebook is organized as follows:\n",
    "\n",
    "1. Data exploration\n",
    "2. Train ML model\n",
    "3. Evaluate the ML model\n",
    "4. Conclusion\n",
    "\n",
    "----------"
   ]
  },
  {
   "cell_type": "markdown",
   "metadata": {},
   "source": [
    "## 1. Data exploration"
   ]
  },
  {
   "cell_type": "markdown",
   "metadata": {},
   "source": [
    "In this section, we import the train set and organize it. The test set is imported later. We set the cases where a loan default occured as the positive class (value equal to 1). \n",
    "\n",
    "The training set has 105471 and 771 features."
   ]
  },
  {
   "cell_type": "code",
   "execution_count": 1,
   "metadata": {},
   "outputs": [],
   "source": [
    "import pandas as pd\n",
    "import numpy as np\n",
    "import matplotlib.pyplot as plt\n",
    "import imblearn"
   ]
  },
  {
   "cell_type": "markdown",
   "metadata": {},
   "source": [
    "----------"
   ]
  },
  {
   "cell_type": "markdown",
   "metadata": {},
   "source": [
    "### Getting the data"
   ]
  },
  {
   "cell_type": "code",
   "execution_count": 2,
   "metadata": {},
   "outputs": [
    {
     "data": {
      "text/html": [
       "<div>\n",
       "<style scoped>\n",
       "    .dataframe tbody tr th:only-of-type {\n",
       "        vertical-align: middle;\n",
       "    }\n",
       "\n",
       "    .dataframe tbody tr th {\n",
       "        vertical-align: top;\n",
       "    }\n",
       "\n",
       "    .dataframe thead th {\n",
       "        text-align: right;\n",
       "    }\n",
       "</style>\n",
       "<table border=\"1\" class=\"dataframe\">\n",
       "  <thead>\n",
       "    <tr style=\"text-align: right;\">\n",
       "      <th></th>\n",
       "      <th>id</th>\n",
       "      <th>f1</th>\n",
       "      <th>f2</th>\n",
       "      <th>f3</th>\n",
       "      <th>f4</th>\n",
       "      <th>f5</th>\n",
       "      <th>f6</th>\n",
       "      <th>f7</th>\n",
       "      <th>f8</th>\n",
       "      <th>f9</th>\n",
       "      <th>...</th>\n",
       "      <th>f770</th>\n",
       "      <th>f771</th>\n",
       "      <th>f772</th>\n",
       "      <th>f773</th>\n",
       "      <th>f774</th>\n",
       "      <th>f775</th>\n",
       "      <th>f776</th>\n",
       "      <th>f777</th>\n",
       "      <th>f778</th>\n",
       "      <th>loss</th>\n",
       "    </tr>\n",
       "  </thead>\n",
       "  <tbody>\n",
       "    <tr>\n",
       "      <th>0</th>\n",
       "      <td>1</td>\n",
       "      <td>126</td>\n",
       "      <td>10</td>\n",
       "      <td>0.686842</td>\n",
       "      <td>1100</td>\n",
       "      <td>3</td>\n",
       "      <td>13699</td>\n",
       "      <td>7201.0</td>\n",
       "      <td>4949.0</td>\n",
       "      <td>126.75</td>\n",
       "      <td>...</td>\n",
       "      <td>5</td>\n",
       "      <td>2.14</td>\n",
       "      <td>-1.54</td>\n",
       "      <td>1.18</td>\n",
       "      <td>0.1833</td>\n",
       "      <td>0.7873</td>\n",
       "      <td>1</td>\n",
       "      <td>0</td>\n",
       "      <td>5</td>\n",
       "      <td>0</td>\n",
       "    </tr>\n",
       "    <tr>\n",
       "      <th>1</th>\n",
       "      <td>2</td>\n",
       "      <td>121</td>\n",
       "      <td>10</td>\n",
       "      <td>0.782776</td>\n",
       "      <td>1100</td>\n",
       "      <td>3</td>\n",
       "      <td>84645</td>\n",
       "      <td>240.0</td>\n",
       "      <td>1625.0</td>\n",
       "      <td>123.52</td>\n",
       "      <td>...</td>\n",
       "      <td>6</td>\n",
       "      <td>0.54</td>\n",
       "      <td>-0.24</td>\n",
       "      <td>0.13</td>\n",
       "      <td>0.1926</td>\n",
       "      <td>-0.6787</td>\n",
       "      <td>1</td>\n",
       "      <td>0</td>\n",
       "      <td>5</td>\n",
       "      <td>0</td>\n",
       "    </tr>\n",
       "    <tr>\n",
       "      <th>2</th>\n",
       "      <td>3</td>\n",
       "      <td>126</td>\n",
       "      <td>10</td>\n",
       "      <td>0.500080</td>\n",
       "      <td>1100</td>\n",
       "      <td>3</td>\n",
       "      <td>83607</td>\n",
       "      <td>1800.0</td>\n",
       "      <td>1527.0</td>\n",
       "      <td>127.76</td>\n",
       "      <td>...</td>\n",
       "      <td>13</td>\n",
       "      <td>2.89</td>\n",
       "      <td>-1.73</td>\n",
       "      <td>1.04</td>\n",
       "      <td>0.2521</td>\n",
       "      <td>0.7258</td>\n",
       "      <td>1</td>\n",
       "      <td>0</td>\n",
       "      <td>5</td>\n",
       "      <td>0</td>\n",
       "    </tr>\n",
       "    <tr>\n",
       "      <th>3</th>\n",
       "      <td>4</td>\n",
       "      <td>134</td>\n",
       "      <td>10</td>\n",
       "      <td>0.439874</td>\n",
       "      <td>1100</td>\n",
       "      <td>3</td>\n",
       "      <td>82642</td>\n",
       "      <td>7542.0</td>\n",
       "      <td>1730.0</td>\n",
       "      <td>132.94</td>\n",
       "      <td>...</td>\n",
       "      <td>4</td>\n",
       "      <td>1.29</td>\n",
       "      <td>-0.89</td>\n",
       "      <td>0.66</td>\n",
       "      <td>0.2498</td>\n",
       "      <td>0.7119</td>\n",
       "      <td>1</td>\n",
       "      <td>0</td>\n",
       "      <td>5</td>\n",
       "      <td>0</td>\n",
       "    </tr>\n",
       "    <tr>\n",
       "      <th>4</th>\n",
       "      <td>5</td>\n",
       "      <td>109</td>\n",
       "      <td>9</td>\n",
       "      <td>0.502749</td>\n",
       "      <td>2900</td>\n",
       "      <td>4</td>\n",
       "      <td>79124</td>\n",
       "      <td>89.0</td>\n",
       "      <td>491.0</td>\n",
       "      <td>122.72</td>\n",
       "      <td>...</td>\n",
       "      <td>26</td>\n",
       "      <td>6.11</td>\n",
       "      <td>-3.82</td>\n",
       "      <td>2.51</td>\n",
       "      <td>0.2282</td>\n",
       "      <td>-0.5399</td>\n",
       "      <td>0</td>\n",
       "      <td>0</td>\n",
       "      <td>5</td>\n",
       "      <td>0</td>\n",
       "    </tr>\n",
       "  </tbody>\n",
       "</table>\n",
       "<p>5 rows × 771 columns</p>\n",
       "</div>"
      ],
      "text/plain": [
       "   id   f1  f2        f3    f4  f5     f6      f7      f8      f9  ...  f770  \\\n",
       "0   1  126  10  0.686842  1100   3  13699  7201.0  4949.0  126.75  ...     5   \n",
       "1   2  121  10  0.782776  1100   3  84645   240.0  1625.0  123.52  ...     6   \n",
       "2   3  126  10  0.500080  1100   3  83607  1800.0  1527.0  127.76  ...    13   \n",
       "3   4  134  10  0.439874  1100   3  82642  7542.0  1730.0  132.94  ...     4   \n",
       "4   5  109   9  0.502749  2900   4  79124    89.0   491.0  122.72  ...    26   \n",
       "\n",
       "   f771  f772  f773    f774    f775  f776  f777  f778  loss  \n",
       "0  2.14 -1.54  1.18  0.1833  0.7873     1     0     5     0  \n",
       "1  0.54 -0.24  0.13  0.1926 -0.6787     1     0     5     0  \n",
       "2  2.89 -1.73  1.04  0.2521  0.7258     1     0     5     0  \n",
       "3  1.29 -0.89  0.66  0.2498  0.7119     1     0     5     0  \n",
       "4  6.11 -3.82  2.51  0.2282 -0.5399     0     0     5     0  \n",
       "\n",
       "[5 rows x 771 columns]"
      ]
     },
     "execution_count": 2,
     "metadata": {},
     "output_type": "execute_result"
    }
   ],
   "source": [
    "import warnings\n",
    "warnings.filterwarnings(\"ignore\")\n",
    "\n",
    "data = pd.read_csv('/Users/leuzinger/Documentos/loan-default-prediction/train_v2.csv')\n",
    "#data.reset_index(inplace=True)\n",
    "#pd.set_option('display.max_columns', None)\n",
    "#pd.set_option('display.max_rows', None)\n",
    "data.head()"
   ]
  },
  {
   "cell_type": "code",
   "execution_count": 3,
   "metadata": {},
   "outputs": [
    {
     "name": "stdout",
     "output_type": "stream",
     "text": [
      "<class 'pandas.core.frame.DataFrame'>\n",
      "RangeIndex: 105471 entries, 0 to 105470\n",
      "Columns: 771 entries, id to loss\n",
      "dtypes: float64(653), int64(99), object(19)\n",
      "memory usage: 620.4+ MB\n"
     ]
    }
   ],
   "source": [
    "data.info()"
   ]
  },
  {
   "cell_type": "code",
   "execution_count": 4,
   "metadata": {
    "scrolled": true
   },
   "outputs": [],
   "source": [
    "import warnings\n",
    "warnings.filterwarnings(\"ignore\")\n",
    "\n",
    "df = data.copy()\n",
    "\n",
    "mask = df['loss'] != 0\n",
    "\n",
    "df['default'] = df['loss']\n",
    "\n",
    "df['default'][mask] = 1"
   ]
  },
  {
   "cell_type": "markdown",
   "metadata": {},
   "source": [
    "------------"
   ]
  },
  {
   "cell_type": "markdown",
   "metadata": {},
   "source": [
    "### Checking for imbalance"
   ]
  },
  {
   "cell_type": "markdown",
   "metadata": {},
   "source": [
    "**We verify that the train set is clearly imbalanced**. There is 95688 cases in which a loan deafult did not happen and only 9783 loan deafult cases."
   ]
  },
  {
   "cell_type": "code",
   "execution_count": null,
   "metadata": {},
   "outputs": [],
   "source": [
    "df['default'].value_counts()"
   ]
  },
  {
   "cell_type": "markdown",
   "metadata": {},
   "source": [
    "------------"
   ]
  },
  {
   "cell_type": "markdown",
   "metadata": {},
   "source": [
    "### Data cleaning"
   ]
  },
  {
   "cell_type": "markdown",
   "metadata": {},
   "source": [
    "First, we remove the columns with categorical variables. Then, we remove columns with a single value, and duplicated columns."
   ]
  },
  {
   "cell_type": "code",
   "execution_count": 6,
   "metadata": {},
   "outputs": [],
   "source": [
    "#check for categorical variables\n",
    "\n",
    "cat = df.select_dtypes(include='object').columns\n",
    "\n",
    "#remove columns with categorical variables\n",
    "df = df.drop(cat,axis=1)"
   ]
  },
  {
   "cell_type": "code",
   "execution_count": 7,
   "metadata": {
    "scrolled": true
   },
   "outputs": [
    {
     "name": "stdout",
     "output_type": "stream",
     "text": [
      "<class 'pandas.core.frame.DataFrame'>\n",
      "RangeIndex: 105471 entries, 0 to 105470\n",
      "Columns: 753 entries, id to default\n",
      "dtypes: float64(653), int64(100)\n",
      "memory usage: 605.9 MB\n"
     ]
    }
   ],
   "source": [
    "df.info()"
   ]
  },
  {
   "cell_type": "code",
   "execution_count": 8,
   "metadata": {},
   "outputs": [
    {
     "name": "stdout",
     "output_type": "stream",
     "text": [
      "<class 'pandas.core.frame.DataFrame'>\n",
      "RangeIndex: 105471 entries, 0 to 105470\n",
      "Columns: 743 entries, id to default\n",
      "dtypes: float64(653), int64(90)\n",
      "memory usage: 597.9 MB\n"
     ]
    }
   ],
   "source": [
    "from numpy import unique\n",
    "\n",
    "pd.set_option('display.max_columns', None)\n",
    "pd.set_option('display.max_rows', None)\n",
    "single = []\n",
    "for i in range(df.shape[1]):\n",
    "    if len(unique(df.iloc[:, i])) == 1:\n",
    "        single.append(df.iloc[:,i].name)\n",
    "        \n",
    "#remove columns with the same value in all rows\n",
    "df = df.drop(['f33','f34','f35','f37','f38','f700','f701','f702','f736','f764'],axis=1)\n",
    "df.info()"
   ]
  },
  {
   "cell_type": "code",
   "execution_count": 9,
   "metadata": {},
   "outputs": [
    {
     "data": {
      "text/plain": [
       "False"
      ]
     },
     "execution_count": 9,
     "metadata": {},
     "output_type": "execute_result"
    }
   ],
   "source": [
    "#check for duplicated rows\n",
    "df.duplicated().any()"
   ]
  },
  {
   "cell_type": "code",
   "execution_count": 10,
   "metadata": {},
   "outputs": [
    {
     "data": {
      "text/plain": [
       "True"
      ]
     },
     "execution_count": 10,
     "metadata": {},
     "output_type": "execute_result"
    }
   ],
   "source": [
    "#check for duplicated columns\n",
    "df.T.duplicated().any()"
   ]
  },
  {
   "cell_type": "code",
   "execution_count": 11,
   "metadata": {},
   "outputs": [
    {
     "name": "stdout",
     "output_type": "stream",
     "text": [
      "<class 'pandas.core.frame.DataFrame'>\n",
      "RangeIndex: 105471 entries, 0 to 105470\n",
      "Columns: 662 entries, id to default\n",
      "dtypes: float64(662)\n",
      "memory usage: 532.7 MB\n"
     ]
    }
   ],
   "source": [
    "#store columns with int values (discrete variables)\n",
    "col = df.select_dtypes(include='int64').columns\n",
    "\n",
    "#remove columns duplicated\n",
    "df = df.T.drop_duplicates().T\n",
    "df.info()"
   ]
  },
  {
   "cell_type": "markdown",
   "metadata": {},
   "source": [
    "----------"
   ]
  },
  {
   "cell_type": "markdown",
   "metadata": {},
   "source": [
    "### Creating the Train and Test sets"
   ]
  },
  {
   "cell_type": "markdown",
   "metadata": {},
   "source": [
    "Creating a test set at the beginning of the project avoid *data snooping* bias, i.e., \"when you estimate the generalization error using the test set, your estimate will be too optimistic, and you will launch a system that will not perform as well as expected\" (GÉRON, 2019).\n",
    "\n",
    "In this project, the test set has already been created. It is imported later in the notebook. Therefore, we only need to create the X and Y training sets."
   ]
  },
  {
   "cell_type": "code",
   "execution_count": 15,
   "metadata": {},
   "outputs": [],
   "source": [
    "from sklearn.model_selection import train_test_split\n",
    "\n",
    "loan_X = df.drop(['loss','default'],axis=1).copy()\n",
    "loan_y = df['default'].copy()\n",
    "\n",
    "loan_X_train, loan_X_test, loan_y_train, loan_y_test = train_test_split(loan_X, loan_y, test_size=0.2,stratify=loan_y)"
   ]
  },
  {
   "cell_type": "markdown",
   "metadata": {},
   "source": [
    "---------"
   ]
  },
  {
   "cell_type": "markdown",
   "metadata": {},
   "source": [
    "### Preparing the data for ML algorithms"
   ]
  },
  {
   "cell_type": "markdown",
   "metadata": {},
   "source": [
    "Before creating the ML models, we need to prepare the data so that the ML algorithms will work properly.\n",
    "\n",
    "First, we need to clean missing values from the dataset. Second, we need to put all the attributes in the same scale because \"Machine Learning algorithms don’t perform well when the input numerical attributes have very different scales\" (GÉRON, 2019).\n",
    "\n",
    "**We check for NaN values distinguishing between discrete and continous variables because we would use different methods to inpute values depending on the type of the variable. However, we see that only the columns with continoues variables have missing values**.\n",
    "\n",
    "We verify that 436 columns have at least one NaN value. Removing all the rows with NaN values, would result in losing more than 50% of the train set, which is not a good option. Therefore, we make the option to use statistical imputation to fill the NaN values. We use the mean value because all the NaN values are in columns with continous values. "
   ]
  },
  {
   "cell_type": "code",
   "execution_count": 19,
   "metadata": {},
   "outputs": [
    {
     "data": {
      "text/plain": [
       "0"
      ]
     },
     "execution_count": 19,
     "metadata": {},
     "output_type": "execute_result"
    }
   ],
   "source": [
    "#check for columns with NaN values in the columns with discrete variables\n",
    "col_=[]\n",
    "colk = col[:-2]\n",
    "for k in colk:\n",
    "    if k in df.columns:\n",
    "        col_.append(k)\n",
    "        \n",
    "len(list(loan_X_train[col_].columns[loan_X_train[col_].isnull().any()]))"
   ]
  },
  {
   "cell_type": "code",
   "execution_count": 20,
   "metadata": {},
   "outputs": [
    {
     "data": {
      "text/plain": [
       "436"
      ]
     },
     "execution_count": 20,
     "metadata": {},
     "output_type": "execute_result"
    }
   ],
   "source": [
    "#check for columns with NaN values in the columns with continous variables\n",
    "len(list(loan_X_train[loan_X_train.columns.drop(col_)].columns[loan_X_train[loan_X_train.columns.drop(col_)].isnull().any()]))"
   ]
  },
  {
   "cell_type": "code",
   "execution_count": 21,
   "metadata": {},
   "outputs": [],
   "source": [
    "from sklearn.impute import SimpleImputer\n",
    "\n",
    "imputer = SimpleImputer(strategy='mean')\n",
    "imputer.fit(loan_X_train)\n",
    "loan_X_train_sp = imputer.transform(loan_X_train)"
   ]
  },
  {
   "cell_type": "code",
   "execution_count": 22,
   "metadata": {},
   "outputs": [
    {
     "data": {
      "text/plain": [
       "0"
      ]
     },
     "execution_count": 22,
     "metadata": {},
     "output_type": "execute_result"
    }
   ],
   "source": [
    "loan_X_train_sp = pd.DataFrame(loan_X_train_sp, columns = loan_X_train.columns)\n",
    "len(list(loan_X_train_sp.columns[loan_X_train_sp.isnull().any()]))"
   ]
  },
  {
   "cell_type": "code",
   "execution_count": 23,
   "metadata": {},
   "outputs": [
    {
     "name": "stdout",
     "output_type": "stream",
     "text": [
      "<class 'pandas.core.frame.DataFrame'>\n",
      "RangeIndex: 84376 entries, 0 to 84375\n",
      "Columns: 660 entries, id to f778\n",
      "dtypes: float64(660)\n",
      "memory usage: 424.9 MB\n"
     ]
    }
   ],
   "source": [
    "loan_X_train_sp.info()"
   ]
  },
  {
   "cell_type": "markdown",
   "metadata": {},
   "source": [
    "-------"
   ]
  },
  {
   "cell_type": "markdown",
   "metadata": {},
   "source": [
    "### Dimensionality reduction"
   ]
  },
  {
   "cell_type": "markdown",
   "metadata": {},
   "source": [
    "However, **using the train set with all the 105471 and 771 attributes requires a lot of computing power**. Therefore, we use a dimensionality reduction method to make the computation of the ML model less costly.\n",
    "\n",
    "\"Dimensionality reduction refers to techniques that reduce the number of input variables in a dataset. Fewer input dimensions often mean correspondingly fewer parameters or a simpler structure in the machine learning model, referred to as degrees of freedom. A model with too many degrees of freedom is likely to overfit the training dataset and therefore may not perform well on new data\" ([BROWNLEE, 2021](https://machinelearningmastery.com/regression-metrics-for-machine-learning/)).\n",
    "\n",
    "There are several techniques to reduce a data set dimensionality. **In this notebook, we use the Principal Component Analysis (PCA), which is the most used method for dimensionality reduction**. \"It can be thought of as a projection method where data with m-columns (features) is projected into a subspace with m or fewer columns, whilst retaining the essence of the original data\" (BROWNLEE, 2021). \n",
    "\n",
    "Moreover, it is \"a good idea to normalize data prior to performing the PCA transform if the input variables have differing units or scales\" (BROWNLEE, 2021), which is the case of our data set.\n",
    "\n",
    "From the graph, we verify that it would be necessary around 250 components to account to 99% of the variance, 100 for 90% and 50 for 80%. **We use in this project 34 components, which account for 75% of the variance, because of our limited computing power**."
   ]
  },
  {
   "cell_type": "code",
   "execution_count": 24,
   "metadata": {},
   "outputs": [
    {
     "data": {
      "image/png": "[encoded data removed]",
      "text/plain": [
       "<Figure size 1008x864 with 1 Axes>"
      ]
     },
     "metadata": {
      "needs_background": "light"
     },
     "output_type": "display_data"
    }
   ],
   "source": [
    "from sklearn.decomposition import PCA\n",
    "from sklearn.preprocessing import StandardScaler\n",
    "\n",
    "scaler = StandardScaler()\n",
    "scaler.fit(loan_X_train_sp)\n",
    "loan_X_train_scl = scaler.transform(loan_X_train_sp)\n",
    "pca = PCA().fit(loan_X_train_scl)\n",
    "plt.figure(figsize=(14,12))\n",
    "plt.plot(np.cumsum(pca.explained_variance_ratio_))\n",
    "plt.xlabel('number of components')\n",
    "plt.ylabel('cumulative explained variance')\n",
    "plt.show()"
   ]
  },
  {
   "cell_type": "code",
   "execution_count": 25,
   "metadata": {},
   "outputs": [
    {
     "data": {
      "text/plain": [
       "34"
      ]
     },
     "execution_count": 25,
     "metadata": {},
     "output_type": "execute_result"
    }
   ],
   "source": [
    "pca = PCA(0.75)\n",
    "pca.fit(loan_X_train_scl)\n",
    "len(pca.explained_variance_ratio_)"
   ]
  },
  {
   "cell_type": "code",
   "execution_count": 28,
   "metadata": {},
   "outputs": [],
   "source": [
    "from sklearn.pipeline import Pipeline\n",
    "\n",
    "pca_scaler = Pipeline(steps=[('scaler',StandardScaler()),('pca', PCA(0.75))])\n",
    "\n",
    "pca_scaler.fit(loan_X_train_sp)\n",
    "loan_X_train_pca = pca_scaler.transform(loan_X_train_sp)"
   ]
  },
  {
   "cell_type": "markdown",
   "metadata": {},
   "source": [
    "----------"
   ]
  },
  {
   "cell_type": "markdown",
   "metadata": {},
   "source": [
    "## 2. Train ML model"
   ]
  },
  {
   "cell_type": "markdown",
   "metadata": {},
   "source": [
    "After preparing the data set, we are ready to select and train our ML model.\n",
    "\n",
    "Evaluating a classifier is often trickier than evaluating other ML models.\"This challenge is made even more difficult when there is a skew in the class distribution. The reason for this is that many of the standard metrics become unreliable or even misleading when classes are imbalanced, or severely imbalanced, such as 1:100 or 1:1000 ratio between a minority and majority class\" [(BROWNLEE, 2020)](https://machinelearningmastery.com/imbalanced-classification-with-python/).\n",
    "\n",
    "The main evaluation metrics for imbalanced data sets can be divided into (BROWNLEE, 2020):\n",
    "\n",
    "1. Threshold Metrics - F-score, G-mean \n",
    "2. Ranking Metrics - Precision-Recall Area Under Curve (PR AUC), Receiver Operating Characteristic AUC (ROC AUC)\n",
    "3. Probability Metrics - LogLoss score, Brier score\n",
    "\n",
    "**We use the F2-score (less weight on precision, but more weight on recall in comparison to the F1-score) as the evaluation metric because we are predicting labels and false negatives are more costly than false positives**. False negatives are more costly because they mean not identifying cases in which a loan default may occur, while incorrect denial of a loan when default is not likely (false positive) has a much lower cost. \n",
    "\n",
    "Besides, \"the key to a fair comparison of machine learning algorithms is ensuring that each algorithm is evaluated in the same way on the same data. You can achieve this by forcing each algorithm to be evaluated on a consistent test harness\" (BROWNLEE, 2016). In this project, we do this by using the same split in the cross validation. We use the KFold function from the sklearn library with a random value rs as the random_state parameter. Although the rs value change everytime the notebook is run, once it is set, the same rs value is used in all the models. This guarantees that all the models are evaluated on the same data. "
   ]
  },
  {
   "cell_type": "markdown",
   "metadata": {},
   "source": [
    "--------"
   ]
  },
  {
   "cell_type": "markdown",
   "metadata": {},
   "source": [
    "### Spot-check algorithms"
   ]
  },
  {
   "cell_type": "markdown",
   "metadata": {},
   "source": [
    "Then we spot-check some algorithms, i.e., we evaluate some algotithms with minimum hyperparameter tuning to see  how they perform. \"The objective is to quickly test a range of standard machine learning algorithms and provide a baseline in performance to which techniques specialized for imbalanced classification must be compared and outperform in order to be considered skillful\" (BROWNLEE, 2020).\n",
    "\n",
    "First, we evaluate a naive algorithm, which provides a baseline in performance that any algorithm must overcome in order to have skill on the dataset (BROWNLEE, 2020). We use a naive algorithm that predicts the minority class (class 1), as we are using a F-score metric to evaluate the models.\n",
    "\n",
    "Then we check two linear machine learning algorithms:\n",
    "\n",
    "1. Logistic Regression (LogR). \"Logistic regression assumes a Gaussian distribution for the numeric input variables and can model binary classification problem\" (BROWNLEE, 2016). \"It is commonly used to estimate the probability that an instance belongs to a particular class\" (GÉRON, 2019).\n",
    "2. Linear Discriminant Analysis (LDA). This is a statistical technique for binary and multiclass classification (BROWNLEE, 2016).\n",
    "\n",
    "Finally, we try some nonlinear machine learning algorithms:\n",
    "\n",
    "3. k-Nearest Neighbors (KNN). This model \"locates the k most similar instances in the training dataset for a new data instance\" (BROWNLEE, 2016).\n",
    "4. Naive Bayes. This method \"calculates the probability of each class and the conditional probability of each class given each input value. These probabilities are estimated for new data and multiplied together, assuming that they are all independent (a simple or naive assumption)\" (BROWNLEE, 2016). \n",
    "5. Decision Tree. It uses \"the train- ing data to select the best points to split the data in order to minimize a cost metric\" (BROWNLEE, 2016).\n",
    "\n",
    "**The results show that none of the algorithms tested performed better than the naive algorithm**. Besides, the box and whisker plots for each algorithm’s results are created, showing the difference in mean performance (green triangles) and the similar spread in scores between the methods. This suggests all methods have similar distributions. LogR and LDA are slightly more compact, but have performed much worse than the other methods.\n",
    "\n",
    "\n",
    "Therefore, we need to try other algorithms for this problem."
   ]
  },
  {
   "cell_type": "code",
   "execution_count": 29,
   "metadata": {},
   "outputs": [],
   "source": [
    "from sklearn.model_selection import RepeatedStratifiedKFold\n",
    "from sklearn.model_selection import cross_val_score\n",
    "from sklearn.metrics import fbeta_score\n",
    "from sklearn.metrics import make_scorer\n",
    "import warnings\n",
    "\n",
    "warnings.filterwarnings(\"ignore\")\n",
    "\n",
    "def f2_measure(y_true, y_pred):\n",
    "    return fbeta_score(y_true, y_pred, beta=2)\n",
    "\n",
    "def evaluation(model,X_train,y_train,rs):\n",
    "    #model.fit(X_train,y_train)\n",
    "    #yhat_train = model.predict(X_train)\n",
    "    f2_score = make_scorer(f2_measure)\n",
    "    kfold = RepeatedStratifiedKFold(n_splits=10, n_repeats=3, random_state=rs)\n",
    "    results_f2 = cross_val_score(model, X_train, y_train, cv=kfold, scoring=f2_score, n_jobs=-1)\n",
    "    #print('F2_score: %.6f (%.6f)\\n' % (results_f2.mean(), results_f2.std()))\n",
    "    return results_f2"
   ]
  },
  {
   "cell_type": "code",
   "execution_count": 30,
   "metadata": {},
   "outputs": [],
   "source": [
    "from random import randrange\n",
    "\n",
    "rs = randrange(10000)"
   ]
  },
  {
   "cell_type": "code",
   "execution_count": 31,
   "metadata": {},
   "outputs": [
    {
     "data": {
      "text/html": [
       "<div>\n",
       "<style scoped>\n",
       "    .dataframe tbody tr th:only-of-type {\n",
       "        vertical-align: middle;\n",
       "    }\n",
       "\n",
       "    .dataframe tbody tr th {\n",
       "        vertical-align: top;\n",
       "    }\n",
       "\n",
       "    .dataframe thead th {\n",
       "        text-align: right;\n",
       "    }\n",
       "</style>\n",
       "<table border=\"1\" class=\"dataframe\">\n",
       "  <thead>\n",
       "    <tr style=\"text-align: right;\">\n",
       "      <th></th>\n",
       "      <th>model</th>\n",
       "      <th>F2-score mean</th>\n",
       "      <th>F2-socre std</th>\n",
       "    </tr>\n",
       "  </thead>\n",
       "  <tbody>\n",
       "    <tr>\n",
       "      <th>0</th>\n",
       "      <td>Naive</td>\n",
       "      <td>0.338261</td>\n",
       "      <td>0.000140</td>\n",
       "    </tr>\n",
       "    <tr>\n",
       "      <th>1</th>\n",
       "      <td>LogR</td>\n",
       "      <td>0.000319</td>\n",
       "      <td>0.000639</td>\n",
       "    </tr>\n",
       "    <tr>\n",
       "      <th>2</th>\n",
       "      <td>LDA</td>\n",
       "      <td>0.001064</td>\n",
       "      <td>0.001324</td>\n",
       "    </tr>\n",
       "    <tr>\n",
       "      <th>3</th>\n",
       "      <td>KNN</td>\n",
       "      <td>0.021940</td>\n",
       "      <td>0.005752</td>\n",
       "    </tr>\n",
       "    <tr>\n",
       "      <th>4</th>\n",
       "      <td>GaussianNB</td>\n",
       "      <td>0.091774</td>\n",
       "      <td>0.009072</td>\n",
       "    </tr>\n",
       "    <tr>\n",
       "      <th>5</th>\n",
       "      <td>Decision Tree</td>\n",
       "      <td>0.139281</td>\n",
       "      <td>0.012772</td>\n",
       "    </tr>\n",
       "  </tbody>\n",
       "</table>\n",
       "</div>"
      ],
      "text/plain": [
       "           model  F2-score mean  F2-socre std\n",
       "0          Naive       0.338261      0.000140\n",
       "1           LogR       0.000319      0.000639\n",
       "2            LDA       0.001064      0.001324\n",
       "3            KNN       0.021940      0.005752\n",
       "4     GaussianNB       0.091774      0.009072\n",
       "5  Decision Tree       0.139281      0.012772"
      ]
     },
     "execution_count": 31,
     "metadata": {},
     "output_type": "execute_result"
    }
   ],
   "source": [
    "from sklearn.dummy import DummyClassifier\n",
    "from sklearn.linear_model import LogisticRegression\n",
    "from sklearn.discriminant_analysis import LinearDiscriminantAnalysis\n",
    "from sklearn.neighbors import KNeighborsClassifier\n",
    "from sklearn.naive_bayes import GaussianNB\n",
    "from sklearn.tree import DecisionTreeClassifier\n",
    "\n",
    "result = pd.DataFrame(columns=['model','F2-score mean','F2-socre std'])\n",
    "\n",
    "models = [DummyClassifier(strategy='constant',constant=1),LogisticRegression(),LinearDiscriminantAnalysis(),\n",
    "          KNeighborsClassifier(),GaussianNB(),DecisionTreeClassifier()\n",
    "         ]\n",
    "models_str = ['Naive','LogR','LDA','KNN','GaussianNB','Decision Tree']\n",
    "results_list = list()\n",
    "\n",
    "for k in range(len(models)):\n",
    "    results = evaluation(models[k],loan_X_train_pca,loan_y_train,rs)\n",
    "    results_list.append(results)\n",
    "    results_ = [models_str[k],results.mean(),results.std()]\n",
    "    results_ = pd.Series(results_, index = result.columns)\n",
    "    result = result.append(results_,ignore_index=True)\n",
    "result"
   ]
  },
  {
   "cell_type": "code",
   "execution_count": 32,
   "metadata": {},
   "outputs": [
    {
     "data": {
      "image/png": "[encoded data removed]",
      "text/plain": [
       "<Figure size 1008x864 with 1 Axes>"
      ]
     },
     "metadata": {
      "needs_background": "light"
     },
     "output_type": "display_data"
    }
   ],
   "source": [
    "plot_list = results_list[1:]\n",
    "labels = models_str[1:]\n",
    "\n",
    "plt.figure(figsize=(14,12))\n",
    "plt.boxplot(results_list[1:],labels=models_str[1:],showmeans=True)\n",
    "plt.xlabel('F2-score')\n",
    "plt.ylabel('Algorithm')\n",
    "plt.show()"
   ]
  },
  {
   "cell_type": "markdown",
   "metadata": {},
   "source": [
    "-----"
   ]
  },
  {
   "cell_type": "markdown",
   "metadata": {},
   "source": [
    "### Spot-check imbalanced algorithms"
   ]
  },
  {
   "cell_type": "markdown",
   "metadata": {},
   "source": [
    "This part is similar to the preivous one. \"**The objective is to quickly test a large number of techniques in order to discover what shows promise**\" (BROWNLEE, 2020). Then we can focus on the best ones later during hyperparameter tuning.\n",
    "\n",
    "**We start our anlysis with cost-sensitive algorithms**, i.e., algorithms \"that takes the costs of prediction errors (and potentially other costs) into account when training a machine learning model\" (BROWNLEE, 2020). When dealing with imbalanced classification problems, not all erros are equal. Therefore, we nedd to assign different costs to the types of misclassification errors that can be made (BROWNLEE, 2020). However, \"machine learning algorithms are rarely developed specifically for cost-sensitive learning. Instead, the wealth of existing machine learning algorithms can be modified to make use of the cost matrix\"(BROWNLEE, 2020). The cost matrix assigns a cost to each ceel in the confusion matrix. \n",
    "\n",
    "We try the following cost-sensitive algorithms:\n",
    "\n",
    "1. Logistic Regression (LogR). Although LogR does not support imbalanced classification directly, it can be adapted by specifying a class weighting to penalize the model more for errors made in the minority class(BROWNLEE, 2020).\n",
    "2. Decision Trees. These algorithms also does not perform well on imbalanced datasets. It is necessary to modify the criterion used to evaluate split points so that it takes into account the importance of each classclass (BROWNLEE, 2020). \n",
    "\n",
    "We also try ensemble algorithms, i.e, algorithms \"that fits multiple models on different subsets of a training dataset, then combines the predictions from all models\" (BROWNLEE, 2020):\n",
    "\n",
    "3. Random Forest. It selects random samples with replacement (bootsrap samples) and fits a decision tree on each. However, not all features are used, only a small subset of features is selected for each bootstrap sample (BROWNLEE, 2020).\n",
    "4. Easy Ensemble. This algorithm creates balanced samples of the treining dataset by selecting examples form the minority class and a subset of the majority class. Then, it uses boosted decion trees on each subset, specifically the AdaBoost algorithm. The process is repeated for a given number of descion trees (BROWNLEE, 2020).\n",
    "\n",
    "\n",
    "**The results show that Logistic Regression, Random Forest and Easy Ensemble algorithms performed better than the naive algorithm**. We see in the box and whisker plot that the the distribution for all these algorithms is compact and skillful. We can try to improve their perfomance by tuning the hyperparameters."
   ]
  },
  {
   "cell_type": "code",
   "execution_count": 64,
   "metadata": {},
   "outputs": [
    {
     "name": "stdout",
     "output_type": "stream",
     "text": [
      "0.38113838057024957 0.010829407212496771\n"
     ]
    }
   ],
   "source": [
    "results_RF = evaluation(BalancedRandomForestClassifier(n_estimators=1000),loan_X_train_pca,loan_y_train,rs)\n",
    "print(results_RF.mean(),results_RF.std())"
   ]
  },
  {
   "cell_type": "code",
   "execution_count": 57,
   "metadata": {},
   "outputs": [
    {
     "data": {
      "text/html": [
       "<div>\n",
       "<style scoped>\n",
       "    .dataframe tbody tr th:only-of-type {\n",
       "        vertical-align: middle;\n",
       "    }\n",
       "\n",
       "    .dataframe tbody tr th {\n",
       "        vertical-align: top;\n",
       "    }\n",
       "\n",
       "    .dataframe thead th {\n",
       "        text-align: right;\n",
       "    }\n",
       "</style>\n",
       "<table border=\"1\" class=\"dataframe\">\n",
       "  <thead>\n",
       "    <tr style=\"text-align: right;\">\n",
       "      <th></th>\n",
       "      <th>model</th>\n",
       "      <th>F2-score mean</th>\n",
       "      <th>F2-socre std</th>\n",
       "    </tr>\n",
       "  </thead>\n",
       "  <tbody>\n",
       "    <tr>\n",
       "      <th>0</th>\n",
       "      <td>LogR balanced</td>\n",
       "      <td>0.380819</td>\n",
       "      <td>0.011552</td>\n",
       "    </tr>\n",
       "    <tr>\n",
       "      <th>1</th>\n",
       "      <td>Decision Tree balanced</td>\n",
       "      <td>0.127109</td>\n",
       "      <td>0.009409</td>\n",
       "    </tr>\n",
       "    <tr>\n",
       "      <th>2</th>\n",
       "      <td>Random Forest</td>\n",
       "      <td>0.369469</td>\n",
       "      <td>0.010544</td>\n",
       "    </tr>\n",
       "    <tr>\n",
       "      <th>3</th>\n",
       "      <td>Easy Ensemble</td>\n",
       "      <td>0.378675</td>\n",
       "      <td>0.011392</td>\n",
       "    </tr>\n",
       "  </tbody>\n",
       "</table>\n",
       "</div>"
      ],
      "text/plain": [
       "                    model  F2-score mean  F2-socre std\n",
       "0           LogR balanced       0.380819      0.011552\n",
       "1  Decision Tree balanced       0.127109      0.009409\n",
       "2           Random Forest       0.369469      0.010544\n",
       "3           Easy Ensemble       0.378675      0.011392"
      ]
     },
     "execution_count": 57,
     "metadata": {},
     "output_type": "execute_result"
    }
   ],
   "source": [
    "from sklearn.ensemble import BaggingClassifier, RandomForestClassifier\n",
    "from imblearn.ensemble import EasyEnsembleClassifier, BalancedRandomForestClassifier\n",
    "\n",
    "result_im = pd.DataFrame(columns=['model','F2-score mean','F2-socre std'])\n",
    "\n",
    "models_im = [LogisticRegression(solver='lbfgs', class_weight='balanced'),DecisionTreeClassifier(class_weight='balanced'),\n",
    "          BalancedRandomForestClassifier(),EasyEnsembleClassifier()\n",
    "         ]\n",
    "models_str_im = ['LogR balanced','Decision Tree balanced','Random Forest','Easy Ensemble']\n",
    "\n",
    "results_list_im = list()\n",
    "\n",
    "for k in range(len(models_im)):\n",
    "    results_im = evaluation(models_im[k],loan_X_train_pca,loan_y_train,rs)\n",
    "    results_list_im.append(results_im)\n",
    "    results_im_ = [models_str_im[k],results_im.mean(),results_im.std()]\n",
    "    results_im_ = pd.Series(results_im_, index = result_im.columns)\n",
    "    result_im = result_im.append(results_im_,ignore_index=True)\n",
    "result_im"
   ]
  },
  {
   "cell_type": "code",
   "execution_count": 58,
   "metadata": {},
   "outputs": [
    {
     "data": {
      "image/png": "[encoded data removed]",
      "text/plain": [
       "<Figure size 1008x864 with 1 Axes>"
      ]
     },
     "metadata": {
      "needs_background": "light"
     },
     "output_type": "display_data"
    }
   ],
   "source": [
    "plt.figure(figsize=(14,12))\n",
    "plt.boxplot(results_list_im,labels=models_str_im,showmeans=True)\n",
    "plt.xlabel('F2-score')\n",
    "plt.ylabel('Algorithm')\n",
    "plt.show()"
   ]
  },
  {
   "cell_type": "markdown",
   "metadata": {},
   "source": [
    "### Algorithm Tuning"
   ]
  },
  {
   "cell_type": "markdown",
   "metadata": {},
   "source": [
    "In this section, we are interested in tuning and comparing different parameter settings to further improve the performance for making predictions on unseen data. \"This process is called model selection, with\n",
    "the name referring to a given classification problem for which we want to select the optimal values of tuning parameters (also called hyperparameters)\" (RASCHKA; MIRJALILI, 2019).\n",
    "\n",
    "First, we verify which weight are being used in the 'balanced' LogR model from sklearn. Then, we test some other weights to see how the model perform.\n",
    "\n",
    "**We verifiy that the best parameters for the LogR model are class_weight = {0: 1, 1: 10}, and solver= lbfgs**."
   ]
  },
  {
   "cell_type": "code",
   "execution_count": 35,
   "metadata": {},
   "outputs": [
    {
     "data": {
      "text/plain": [
       "array([0.55111692, 5.39074879])"
      ]
     },
     "execution_count": 35,
     "metadata": {},
     "output_type": "execute_result"
    }
   ],
   "source": [
    "# calculate heuristic class weighting\n",
    "from sklearn.utils.class_weight import compute_class_weight\n",
    "from sklearn.datasets import make_classification\n",
    "# generate 2 class dataset\n",
    "\n",
    "weighting = compute_class_weight('balanced', [0,1], loan_y_train)\n",
    "weighting"
   ]
  },
  {
   "cell_type": "code",
   "execution_count": 36,
   "metadata": {},
   "outputs": [
    {
     "name": "stdout",
     "output_type": "stream",
     "text": [
      "0.000000 (0.000000) with: {'class_weight': {0: 100, 1: 1}, 'solver': 'lbfgs'}\n",
      "0.000000 (0.000000) with: {'class_weight': {0: 100, 1: 1}, 'solver': 'liblinear'}\n",
      "0.000000 (0.000000) with: {'class_weight': {0: 50, 1: 1}, 'solver': 'lbfgs'}\n",
      "0.000000 (0.000000) with: {'class_weight': {0: 50, 1: 1}, 'solver': 'liblinear'}\n",
      "0.000000 (0.000000) with: {'class_weight': {0: 10, 1: 1}, 'solver': 'lbfgs'}\n",
      "0.000000 (0.000000) with: {'class_weight': {0: 10, 1: 1}, 'solver': 'liblinear'}\n",
      "0.000319 (0.000639) with: {'class_weight': {0: 1, 1: 1}, 'solver': 'lbfgs'}\n",
      "0.000319 (0.000639) with: {'class_weight': {0: 1, 1: 1}, 'solver': 'liblinear'}\n",
      "0.380792 (0.011572) with: {'class_weight': {0: 0.55111692, 1: 5.39074879}, 'solver': 'lbfgs'}\n",
      "0.380777 (0.011577) with: {'class_weight': {0: 0.55111692, 1: 5.39074879}, 'solver': 'liblinear'}\n",
      "0.382306 (0.011061) with: {'class_weight': {0: 1, 1: 10}, 'solver': 'lbfgs'}\n",
      "0.382269 (0.011053) with: {'class_weight': {0: 1, 1: 10}, 'solver': 'liblinear'}\n",
      "0.345261 (0.000663) with: {'class_weight': {0: 1, 1: 50}, 'solver': 'lbfgs'}\n",
      "0.345262 (0.000665) with: {'class_weight': {0: 1, 1: 50}, 'solver': 'liblinear'}\n",
      "0.339687 (0.000353) with: {'class_weight': {0: 1, 1: 100}, 'solver': 'lbfgs'}\n",
      "0.339688 (0.000354) with: {'class_weight': {0: 1, 1: 100}, 'solver': 'liblinear'}\n"
     ]
    }
   ],
   "source": [
    "from sklearn.model_selection import GridSearchCV\n",
    "\n",
    "# define model and parameters\n",
    "model = LogisticRegression(solver='lbfgs')\n",
    "solver = ['lbfgs','liblinear']\n",
    "balance = [{0:1,1:1},{0:1, 1:9.78056972},{0:1,1:10},{0:1,1:15},{0:1,1:25},{0:1,1:50},\n",
    "           {0:1,1:100}\n",
    "          ]\n",
    "f2_score = make_scorer(f2_measure)\n",
    "\n",
    "# define grid search\n",
    "grid = dict(solver=solver,class_weight=balance)\n",
    "cv = RepeatedStratifiedKFold(n_splits=10, n_repeats=3, random_state=rs)\n",
    "grid_search = GridSearchCV(estimator=model, param_grid=grid, n_jobs=-1, cv=cv, scoring=f2_score)\n",
    "grid_result = grid_search.fit(loan_X_train_pca,loan_y_train)\n",
    "\n",
    "# summarize results\n",
    "means_f2 = grid_result.cv_results_['mean_test_score']\n",
    "stds_f2 = grid_result.cv_results_['std_test_score']\n",
    "params = grid_result.cv_results_['params']\n",
    "for mean_f2, stdev_f2,param in zip(means_f2, stds_f2, params):\n",
    "    print(\"%f (%f) with: %r\" % (mean_f2, stdev_f2, param))"
   ]
  },
  {
   "cell_type": "code",
   "execution_count": 65,
   "metadata": {},
   "outputs": [
    {
     "name": "stdout",
     "output_type": "stream",
     "text": [
      "0.378032 (0.010667) with: {'n_estimators': 10}\n",
      "0.379094 (0.010297) with: {'n_estimators': 15}\n",
      "0.378106 (0.010881) with: {'n_estimators': 20}\n"
     ]
    }
   ],
   "source": [
    "model = EasyEnsembleClassifier(random_state=rs)\n",
    "n_estimators = [10, 15, 20]\n",
    "f2_score = make_scorer(f2_measure)\n",
    "\n",
    "# define grid search\n",
    "grid = dict(n_estimators=n_estimators)\n",
    "cv = RepeatedStratifiedKFold(n_splits=10, n_repeats=3, random_state=rs)\n",
    "grid_search = GridSearchCV(estimator=model, param_grid=grid, n_jobs=-1, cv=cv, scoring=f2_score)\n",
    "grid_result = grid_search.fit(loan_X_train_pca,loan_y_train)\n",
    "\n",
    "# summarize results\n",
    "means_f2 = grid_result.cv_results_['mean_test_score']\n",
    "stds_f2 = grid_result.cv_results_['std_test_score']\n",
    "params = grid_result.cv_results_['params']\n",
    "for mean_f2, stdev_f2,param in zip(means_f2, stds_f2, params):\n",
    "    print(\"%f (%f) with: %r\" % (mean_f2, stdev_f2, param))"
   ]
  },
  {
   "cell_type": "code",
   "execution_count": 68,
   "metadata": {},
   "outputs": [
    {
     "name": "stdout",
     "output_type": "stream",
     "text": [
      "0.370558 (0.009277) with: {'n_estimators': 100}\n",
      "0.379545 (0.009527) with: {'n_estimators': 500}\n",
      "0.381304 (0.010557) with: {'n_estimators': 1000}\n"
     ]
    }
   ],
   "source": [
    "model = BalancedRandomForestClassifier(random_state=rs)\n",
    "n_estimators = [100,500,1000]\n",
    "f2_score = make_scorer(f2_measure)\n",
    "\n",
    "# define grid search\n",
    "grid = dict(n_estimators=n_estimators)\n",
    "cv = RepeatedStratifiedKFold(n_splits=10, n_repeats=3, random_state=rs)\n",
    "grid_search = GridSearchCV(estimator=model, param_grid=grid, n_jobs=-1, cv=cv, scoring=f2_score)\n",
    "grid_result = grid_search.fit(loan_X_train_pca,loan_y_train)\n",
    "\n",
    "# summarize results\n",
    "means_f2 = grid_result.cv_results_['mean_test_score']\n",
    "stds_f2 = grid_result.cv_results_['std_test_score']\n",
    "params = grid_result.cv_results_['params']\n",
    "for mean_f2, stdev_f2,param in zip(means_f2, stds_f2, params):\n",
    "    print(\"%f (%f) with: %r\" % (mean_f2, stdev_f2, param))"
   ]
  },
  {
   "cell_type": "markdown",
   "metadata": {},
   "source": [
    "-------"
   ]
  },
  {
   "cell_type": "markdown",
   "metadata": {},
   "source": [
    "### Data Sampling"
   ]
  },
  {
   "cell_type": "markdown",
   "metadata": {},
   "source": [
    "\"Data sampling provides a collection of techniques that transform a training dataset in order to balance or better balance the class distribution\" (BROWNLEE, 2020). There are several data sampling methods to choose from. There are two types of data sampling: oversampling and under sampling. \"Oversampling methods duplicate examples in the minority class or synthesize new examples from the examples in the minority class\" (BROWNLEE, 2020). On the other hand, \"undersampling methods delete or select a subset of examples from the majority class\"(BROWNLEE, 2020). Besides, it is possible to combine oversampling and undersampling methods.\n",
    "\n",
    "**There is no best data sampling method, but oversampling is much more used than undersampling. Besides, undersampling methods are slow and more suited to small data sets, which is not the case in this project**. Thus, we try the following oversampling methods:\n",
    "\n",
    "1. Random Oversampling (ROS). Randomly duplicate examples in the minority class\n",
    "2. Synthetic Minority Oversampling Technique (SMOTE). \"SMOTE first selects a minority class instance a at random and finds its k nearest minority class neighbors. The synthetic instance is then created by choosing one of the k nearest neighbors b at random and connecting a and b to form a line segment in the feature space. The synthetic instances are generated as a convex combination of the two chosen instances a and b\" [(HE; MA, 2013)](https://www.amazon.com.br/Imbalanced-Learning-Foundations-Algorithms-Applications/dp/1118074629).\n",
    "3. Borderline-SMOTE (BLSMOTE). \"A popular extension to SMOTE involves selecting those instances of the minority class that are misclassified, such as with a k-nearest neighbor classification model\" (BROWNLEE, 2020).\n",
    "4. Adaptive Synthetic Sampling (ADASYN). A modification of SMOTE that \"involves generating synthetic samples inversely proportional to the density of the examples in the minority class\" (BROWNLEE, 2020).\n",
    "\n",
    "**We verify that BLSMOTE has the best performance, even though having a higher standard deviation, as can be seen in the box and whisker plot. However, BLSMOTE has not improved the performance of our model**."
   ]
  },
  {
   "cell_type": "code",
   "execution_count": 37,
   "metadata": {},
   "outputs": [
    {
     "data": {
      "text/html": [
       "<div>\n",
       "<style scoped>\n",
       "    .dataframe tbody tr th:only-of-type {\n",
       "        vertical-align: middle;\n",
       "    }\n",
       "\n",
       "    .dataframe tbody tr th {\n",
       "        vertical-align: top;\n",
       "    }\n",
       "\n",
       "    .dataframe thead th {\n",
       "        text-align: right;\n",
       "    }\n",
       "</style>\n",
       "<table border=\"1\" class=\"dataframe\">\n",
       "  <thead>\n",
       "    <tr style=\"text-align: right;\">\n",
       "      <th></th>\n",
       "      <th>oversampling</th>\n",
       "      <th>F2-score mean</th>\n",
       "      <th>F2-socre std</th>\n",
       "    </tr>\n",
       "  </thead>\n",
       "  <tbody>\n",
       "    <tr>\n",
       "      <th>0</th>\n",
       "      <td>ROS</td>\n",
       "      <td>0.339766</td>\n",
       "      <td>0.000397</td>\n",
       "    </tr>\n",
       "    <tr>\n",
       "      <th>1</th>\n",
       "      <td>SMOTE</td>\n",
       "      <td>0.342185</td>\n",
       "      <td>0.000516</td>\n",
       "    </tr>\n",
       "    <tr>\n",
       "      <th>2</th>\n",
       "      <td>BLSMOTE</td>\n",
       "      <td>0.348729</td>\n",
       "      <td>0.001167</td>\n",
       "    </tr>\n",
       "    <tr>\n",
       "      <th>3</th>\n",
       "      <td>ADASYN</td>\n",
       "      <td>0.341525</td>\n",
       "      <td>0.000534</td>\n",
       "    </tr>\n",
       "  </tbody>\n",
       "</table>\n",
       "</div>"
      ],
      "text/plain": [
       "  oversampling  F2-score mean  F2-socre std\n",
       "0          ROS       0.339766      0.000397\n",
       "1        SMOTE       0.342185      0.000516\n",
       "2      BLSMOTE       0.348729      0.001167\n",
       "3       ADASYN       0.341525      0.000534"
      ]
     },
     "execution_count": 37,
     "metadata": {},
     "output_type": "execute_result"
    }
   ],
   "source": [
    "from imblearn.over_sampling import RandomOverSampler, SMOTE, BorderlineSMOTE, SVMSMOTE, ADASYN\n",
    "from imblearn.pipeline import Pipeline\n",
    "\n",
    "# define oversampling models\n",
    "result_over = pd.DataFrame(columns=['oversampling','F2-score mean','F2-socre std'])\n",
    "models_over = [RandomOverSampler(),SMOTE(),BorderlineSMOTE(),ADASYN()]\n",
    "models_str_over = ['ROS','SMOTE','BLSMOTE','ADASYN']\n",
    "results_list_over = list()\n",
    "\n",
    "# evaluate each model\n",
    "for k in range(len(models_over)):\n",
    "    model_over = LogisticRegression(solver='lbfgs', class_weight={0: 1, 1: 10})\n",
    "    \n",
    "    #define the pipeline\n",
    "    steps = [('o', models_over[k]), ('m', model_over)] \n",
    "    pipe_over = Pipeline(steps=steps)\n",
    "\n",
    "    results_over = evaluation(pipe_over,loan_X_train_pca,loan_y_train,rs)\n",
    "    results_list_over.append(results_over)\n",
    "    results_over_ = [models_str_over[k],results_over.mean(),results_over.std()]\n",
    "    results_over_ = pd.Series(results_over_, index = result_over.columns)\n",
    "    result_over = result_over.append(results_over_,ignore_index=True)\n",
    "\n",
    "result_over"
   ]
  },
  {
   "cell_type": "code",
   "execution_count": 38,
   "metadata": {
    "scrolled": true
   },
   "outputs": [
    {
     "data": {
      "image/png": "[encoded data removed]",
      "text/plain": [
       "<Figure size 1008x864 with 1 Axes>"
      ]
     },
     "metadata": {
      "needs_background": "light"
     },
     "output_type": "display_data"
    }
   ],
   "source": [
    "plt.figure(figsize=(14,12))\n",
    "plt.boxplot(results_list_over,labels=models_str_over,showmeans=True)\n",
    "plt.xlabel('F2-score')\n",
    "plt.ylabel('Algorithm')\n",
    "plt.show()"
   ]
  },
  {
   "cell_type": "markdown",
   "metadata": {},
   "source": [
    "---------"
   ]
  },
  {
   "cell_type": "markdown",
   "metadata": {},
   "source": [
    "# 3. Evaluate the ML model"
   ]
  },
  {
   "cell_type": "markdown",
   "metadata": {},
   "source": [
    "Now evaluate the performance of our ML model in the test set, to see how it perform with unseen data.\n",
    "\n",
    "First, we prepare the X_test data as we did with the X_train data.\n",
    "\n",
    "Then, we test the our model. **We verify that our model performed well with the test set, with a F2-score much better than the Naive algorithm. Moreover, the model performed slightly better than in the tests with the train set**."
   ]
  },
  {
   "cell_type": "code",
   "execution_count": 66,
   "metadata": {},
   "outputs": [
    {
     "name": "stdout",
     "output_type": "stream",
     "text": [
      "F2-score: 0.390990\n"
     ]
    },
    {
     "data": {
      "image/png": "[encoded data removed]",
      "text/plain": [
       "<Figure size 432x288 with 2 Axes>"
      ]
     },
     "metadata": {
      "needs_background": "light"
     },
     "output_type": "display_data"
    }
   ],
   "source": [
    "from sklearn.metrics import plot_confusion_matrix\n",
    "\n",
    "imputer = SimpleImputer(strategy='mean')\n",
    "LR = LogisticRegression(solver='lbfgs', class_weight={0: 1, 1: 10})\n",
    "\n",
    "steps=[('imputer',imputer),('scaler',StandardScaler()),('pca', PCA(0.75)), ('m', LR)]\n",
    "pipe_ML = Pipeline(steps=steps)\n",
    "pipe_ML.fit(loan_X_train,loan_y_train)\n",
    "\n",
    "loan_yhat_test = pipe_ML.predict(loan_X_test)\n",
    "#loan_yprob_test = pipe_ML.predict_proba(loan_X_test)[:,1]\n",
    "\n",
    "f2_score = fbeta_score(loan_y_test, loan_yhat_test, beta=2)\n",
    "\n",
    "print('F2-score: %.6f' % f2_score)\n",
    "\n",
    "\n",
    "class_names = ['no default','default']\n",
    "disp = plot_confusion_matrix(pipe_ML,loan_X_test,loan_y_test,\n",
    "                             display_labels=class_names,\n",
    "                             cmap=plt.cm.Blues,\n",
    "                             )\n",
    "disp.ax_.set_title(\"Confusion matrix - ML model\")\n",
    "\n",
    "plt.show()"
   ]
  },
  {
   "cell_type": "code",
   "execution_count": 67,
   "metadata": {},
   "outputs": [
    {
     "name": "stdout",
     "output_type": "stream",
     "text": [
      "F2-score: 0.338312\n"
     ]
    },
    {
     "data": {
      "image/png": "[encoded data removed]",
      "text/plain": [
       "<Figure size 432x288 with 2 Axes>"
      ]
     },
     "metadata": {
      "needs_background": "light"
     },
     "output_type": "display_data"
    }
   ],
   "source": [
    "imputer = SimpleImputer(strategy='mean')\n",
    "naive = DummyClassifier(strategy='constant',constant=1)\n",
    "\n",
    "steps=[('imputer',imputer),('scaler',StandardScaler()),('pca', PCA(0.75)), ('m', naive)]\n",
    "pipe_NA = Pipeline(steps=steps)\n",
    "pipe_NA.fit(loan_X_train,loan_y_train)\n",
    "\n",
    "loan_yhat_test = pipe_NA.predict(loan_X_test)\n",
    "#loan_yprob_test = pipe_ML.predict_proba(loan_X_test)[:,1]\n",
    "\n",
    "f2_score = fbeta_score(loan_y_test, loan_yhat_test, beta=2)\n",
    "\n",
    "print('F2-score: %.6f' % f2_score)\n",
    "\n",
    "\n",
    "class_names = ['no default','default']\n",
    "disp = plot_confusion_matrix(pipe_NA,loan_X_test,loan_y_test,\n",
    "                             display_labels=class_names,\n",
    "                             cmap=plt.cm.Blues,\n",
    "                             )\n",
    "disp.ax_.set_title(\"Confusion matrix - Naive Algorithm\")\n",
    "\n",
    "plt.show()"
   ]
  },
  {
   "cell_type": "markdown",
   "metadata": {},
   "source": [
    "----------------------"
   ]
  },
  {
   "cell_type": "markdown",
   "metadata": {},
   "source": [
    "## 4. Conclusion"
   ]
  },
  {
   "cell_type": "markdown",
   "metadata": {},
   "source": [
    "In this notebook, we create a model to predict if a loan default will occur. \n",
    "\n",
    "We start the notebook with a dimensionality reduction using PCA because our data set had too many features and our computing power is limited. We reduce the dimensionality of the data set from 660 to 34 maintaining 75% of the variance explicability.\n",
    "\n",
    "Next, we test some classification algorithms: \n",
    "\n",
    "1. Logistic Regression (LR)\n",
    "2. Linear Discriminant Analysis (LDA)\n",
    "3. k-Nearest Neighbors (KNN)\n",
    "4. Naive Bayes\n",
    "5. Decision Tree\n",
    "\n",
    "Then, we test some imbalacend algorithms:\n",
    "\n",
    "1. Balanced Logistic Regression\n",
    "2. Balanced Decision Tree\n",
    "3. Random Forest\n",
    "4. Easy Ensemble\n",
    "\n",
    "Finaly, we test some oversampling methods:\n",
    "\n",
    "1. Random Oversampling (ROS)\n",
    "2. Synthetic Minority Oversampling Technique (SMOTE)\n",
    "3. Border Line SMOTE (BLSMOTE)\n",
    "4. Adaptive Synthetic Sampling (ADASYN)\n",
    "\n",
    "We verify that the best ML model for the train set is a Balanced LogR combined without oversampling.\n",
    "\n",
    "**We see that the ML model performed well with the test set, with a F2-score slightly better than in the tests with the train set. The model predicted correctly 1321 default loans out of 1957. Thus, only 636 default loans were not predicted correclty**.\n",
    "\n",
    "The model can be improved by increasing the dimensionality in the PCA (or even using all features) or testing the Random Forest and Easy Ensemble algorithms with more estimators. Again, this was not possible in this notebook becasue we have limeted computing power."
   ]
  }
 ],
 "metadata": {
  "kernelspec": {
   "display_name": "Python 3",
   "language": "python",
   "name": "python3"
  },
  "language_info": {
   "codemirror_mode": {
    "name": "ipython",
    "version": 3
   },
   "file_extension": ".py",
   "mimetype": "text/x-python",
   "name": "python",
   "nbconvert_exporter": "python",
   "pygments_lexer": "ipython3",
   "version": "3.8.5"
  }
 },
 "nbformat": 4,
 "nbformat_minor": 4
}
